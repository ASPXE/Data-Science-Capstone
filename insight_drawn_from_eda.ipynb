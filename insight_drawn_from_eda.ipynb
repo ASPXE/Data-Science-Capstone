{
 "cells": [
  {
   "cell_type": "markdown",
   "id": "901038f9-5d9e-419b-950a-1108fac6732a",
   "metadata": {},
   "source": [
    "# Import libraries\n",
    "\n",
    "This notebook is the collection of another notebooks required to do our final assigment on data science capstone. First, we have to import the libraries."
   ]
  },
  {
   "cell_type": "code",
   "id": "232f3035-eed9-459a-b720-b5e13204c89c",
   "metadata": {
    "ExecuteTime": {
     "end_time": "2024-12-30T00:19:54.461533Z",
     "start_time": "2024-12-30T00:19:54.449932Z"
    }
   },
   "source": [
    "import pandas as pd\n",
    "import numpy as np\n",
    "import requests\n",
    "import matplotlib.pyplot as plt\n",
    "import seaborn as sns\n",
    "from io import StringIO\n",
    "# Import folium MarkerCluster plugin\n",
    "from folium.plugins import MarkerCluster\n",
    "# Import folium MousePosition plugin\n",
    "from folium.plugins import MousePosition\n",
    "# Import folium DivIcon plugin\n",
    "from folium.features import DivIcon\n",
    "import csv\n",
    "import prettytable\n",
    "import sqlite3"
   ],
   "outputs": [],
   "execution_count": 76
  },
  {
   "cell_type": "markdown",
   "id": "8b9b766d-aa20-40b5-8e3e-9a719792e50a",
   "metadata": {},
   "source": [
    "# SQLite Database\n",
    "Next step is create a local database using sqlite3."
   ]
  },
  {
   "cell_type": "code",
   "id": "ee883753-6d69-48d1-b956-e94a5420f36f",
   "metadata": {
    "ExecuteTime": {
     "end_time": "2024-12-30T00:19:58.439774Z",
     "start_time": "2024-12-30T00:19:54.472928Z"
    }
   },
   "source": [
    "!pip install ipython-sql\n",
    "!pip install ipython-sql prettytable"
   ],
   "outputs": [
    {
     "name": "stdout",
     "output_type": "stream",
     "text": [
      "Requirement already satisfied: ipython-sql in c:\\users\\aspxe\\appdata\\local\\programs\\python\\python312\\lib\\site-packages (0.5.0)\n",
      "Requirement already satisfied: prettytable in c:\\users\\aspxe\\appdata\\local\\programs\\python\\python312\\lib\\site-packages (from ipython-sql) (3.12.0)\n",
      "Requirement already satisfied: ipython in c:\\users\\aspxe\\appdata\\local\\programs\\python\\python312\\lib\\site-packages (from ipython-sql) (8.31.0)\n",
      "Requirement already satisfied: sqlalchemy>=2.0 in c:\\users\\aspxe\\appdata\\local\\programs\\python\\python312\\lib\\site-packages (from ipython-sql) (2.0.36)\n",
      "Requirement already satisfied: sqlparse in c:\\users\\aspxe\\appdata\\local\\programs\\python\\python312\\lib\\site-packages (from ipython-sql) (0.5.3)\n",
      "Requirement already satisfied: six in c:\\users\\aspxe\\appdata\\local\\programs\\python\\python312\\lib\\site-packages (from ipython-sql) (1.17.0)\n",
      "Requirement already satisfied: ipython-genutils in c:\\users\\aspxe\\appdata\\local\\programs\\python\\python312\\lib\\site-packages (from ipython-sql) (0.2.0)\n",
      "Requirement already satisfied: typing-extensions>=4.6.0 in c:\\users\\aspxe\\appdata\\local\\programs\\python\\python312\\lib\\site-packages (from sqlalchemy>=2.0->ipython-sql) (4.12.2)\n",
      "Requirement already satisfied: greenlet!=0.4.17 in c:\\users\\aspxe\\appdata\\local\\programs\\python\\python312\\lib\\site-packages (from sqlalchemy>=2.0->ipython-sql) (3.1.1)\n",
      "Requirement already satisfied: colorama in c:\\users\\aspxe\\appdata\\local\\programs\\python\\python312\\lib\\site-packages (from ipython->ipython-sql) (0.4.6)\n",
      "Requirement already satisfied: decorator in c:\\users\\aspxe\\appdata\\local\\programs\\python\\python312\\lib\\site-packages (from ipython->ipython-sql) (5.1.1)\n",
      "Requirement already satisfied: jedi>=0.16 in c:\\users\\aspxe\\appdata\\local\\programs\\python\\python312\\lib\\site-packages (from ipython->ipython-sql) (0.19.2)\n",
      "Requirement already satisfied: matplotlib-inline in c:\\users\\aspxe\\appdata\\local\\programs\\python\\python312\\lib\\site-packages (from ipython->ipython-sql) (0.1.7)\n",
      "Requirement already satisfied: prompt_toolkit<3.1.0,>=3.0.41 in c:\\users\\aspxe\\appdata\\local\\programs\\python\\python312\\lib\\site-packages (from ipython->ipython-sql) (3.0.48)\n",
      "Requirement already satisfied: pygments>=2.4.0 in c:\\users\\aspxe\\appdata\\local\\programs\\python\\python312\\lib\\site-packages (from ipython->ipython-sql) (2.18.0)\n",
      "Requirement already satisfied: stack_data in c:\\users\\aspxe\\appdata\\local\\programs\\python\\python312\\lib\\site-packages (from ipython->ipython-sql) (0.6.3)\n",
      "Requirement already satisfied: traitlets>=5.13.0 in c:\\users\\aspxe\\appdata\\local\\programs\\python\\python312\\lib\\site-packages (from ipython->ipython-sql) (5.14.3)\n",
      "Requirement already satisfied: wcwidth in c:\\users\\aspxe\\appdata\\local\\programs\\python\\python312\\lib\\site-packages (from prettytable->ipython-sql) (0.2.13)\n",
      "Requirement already satisfied: parso<0.9.0,>=0.8.4 in c:\\users\\aspxe\\appdata\\local\\programs\\python\\python312\\lib\\site-packages (from jedi>=0.16->ipython->ipython-sql) (0.8.4)\n",
      "Requirement already satisfied: executing>=1.2.0 in c:\\users\\aspxe\\appdata\\local\\programs\\python\\python312\\lib\\site-packages (from stack_data->ipython->ipython-sql) (2.1.0)\n",
      "Requirement already satisfied: asttokens>=2.1.0 in c:\\users\\aspxe\\appdata\\local\\programs\\python\\python312\\lib\\site-packages (from stack_data->ipython->ipython-sql) (3.0.0)\n",
      "Requirement already satisfied: pure-eval in c:\\users\\aspxe\\appdata\\local\\programs\\python\\python312\\lib\\site-packages (from stack_data->ipython->ipython-sql) (0.2.3)\n"
     ]
    },
    {
     "name": "stderr",
     "output_type": "stream",
     "text": [
      "\n",
      "[notice] A new release of pip is available: 24.2 -> 24.3.1\n",
      "[notice] To update, run: python.exe -m pip install --upgrade pip\n"
     ]
    },
    {
     "name": "stdout",
     "output_type": "stream",
     "text": [
      "Requirement already satisfied: ipython-sql in c:\\users\\aspxe\\appdata\\local\\programs\\python\\python312\\lib\\site-packages (0.5.0)\n",
      "Requirement already satisfied: prettytable in c:\\users\\aspxe\\appdata\\local\\programs\\python\\python312\\lib\\site-packages (3.12.0)\n",
      "Requirement already satisfied: ipython in c:\\users\\aspxe\\appdata\\local\\programs\\python\\python312\\lib\\site-packages (from ipython-sql) (8.31.0)\n",
      "Requirement already satisfied: sqlalchemy>=2.0 in c:\\users\\aspxe\\appdata\\local\\programs\\python\\python312\\lib\\site-packages (from ipython-sql) (2.0.36)\n",
      "Requirement already satisfied: sqlparse in c:\\users\\aspxe\\appdata\\local\\programs\\python\\python312\\lib\\site-packages (from ipython-sql) (0.5.3)\n",
      "Requirement already satisfied: six in c:\\users\\aspxe\\appdata\\local\\programs\\python\\python312\\lib\\site-packages (from ipython-sql) (1.17.0)\n",
      "Requirement already satisfied: ipython-genutils in c:\\users\\aspxe\\appdata\\local\\programs\\python\\python312\\lib\\site-packages (from ipython-sql) (0.2.0)\n",
      "Requirement already satisfied: wcwidth in c:\\users\\aspxe\\appdata\\local\\programs\\python\\python312\\lib\\site-packages (from prettytable) (0.2.13)\n",
      "Requirement already satisfied: typing-extensions>=4.6.0 in c:\\users\\aspxe\\appdata\\local\\programs\\python\\python312\\lib\\site-packages (from sqlalchemy>=2.0->ipython-sql) (4.12.2)\n",
      "Requirement already satisfied: greenlet!=0.4.17 in c:\\users\\aspxe\\appdata\\local\\programs\\python\\python312\\lib\\site-packages (from sqlalchemy>=2.0->ipython-sql) (3.1.1)\n",
      "Requirement already satisfied: colorama in c:\\users\\aspxe\\appdata\\local\\programs\\python\\python312\\lib\\site-packages (from ipython->ipython-sql) (0.4.6)\n",
      "Requirement already satisfied: decorator in c:\\users\\aspxe\\appdata\\local\\programs\\python\\python312\\lib\\site-packages (from ipython->ipython-sql) (5.1.1)\n",
      "Requirement already satisfied: jedi>=0.16 in c:\\users\\aspxe\\appdata\\local\\programs\\python\\python312\\lib\\site-packages (from ipython->ipython-sql) (0.19.2)\n",
      "Requirement already satisfied: matplotlib-inline in c:\\users\\aspxe\\appdata\\local\\programs\\python\\python312\\lib\\site-packages (from ipython->ipython-sql) (0.1.7)\n",
      "Requirement already satisfied: prompt_toolkit<3.1.0,>=3.0.41 in c:\\users\\aspxe\\appdata\\local\\programs\\python\\python312\\lib\\site-packages (from ipython->ipython-sql) (3.0.48)\n",
      "Requirement already satisfied: pygments>=2.4.0 in c:\\users\\aspxe\\appdata\\local\\programs\\python\\python312\\lib\\site-packages (from ipython->ipython-sql) (2.18.0)\n",
      "Requirement already satisfied: stack_data in c:\\users\\aspxe\\appdata\\local\\programs\\python\\python312\\lib\\site-packages (from ipython->ipython-sql) (0.6.3)\n",
      "Requirement already satisfied: traitlets>=5.13.0 in c:\\users\\aspxe\\appdata\\local\\programs\\python\\python312\\lib\\site-packages (from ipython->ipython-sql) (5.14.3)\n",
      "Requirement already satisfied: parso<0.9.0,>=0.8.4 in c:\\users\\aspxe\\appdata\\local\\programs\\python\\python312\\lib\\site-packages (from jedi>=0.16->ipython->ipython-sql) (0.8.4)\n",
      "Requirement already satisfied: executing>=1.2.0 in c:\\users\\aspxe\\appdata\\local\\programs\\python\\python312\\lib\\site-packages (from stack_data->ipython->ipython-sql) (2.1.0)\n",
      "Requirement already satisfied: asttokens>=2.1.0 in c:\\users\\aspxe\\appdata\\local\\programs\\python\\python312\\lib\\site-packages (from stack_data->ipython->ipython-sql) (3.0.0)\n",
      "Requirement already satisfied: pure-eval in c:\\users\\aspxe\\appdata\\local\\programs\\python\\python312\\lib\\site-packages (from stack_data->ipython->ipython-sql) (0.2.3)\n"
     ]
    },
    {
     "name": "stderr",
     "output_type": "stream",
     "text": [
      "\n",
      "[notice] A new release of pip is available: 24.2 -> 24.3.1\n",
      "[notice] To update, run: python.exe -m pip install --upgrade pip\n"
     ]
    }
   ],
   "execution_count": 77
  },
  {
   "cell_type": "code",
   "id": "2548fba9-45b0-442d-a6ef-d4a3e2dc541f",
   "metadata": {
    "ExecuteTime": {
     "end_time": "2024-12-30T00:19:58.481018Z",
     "start_time": "2024-12-30T00:19:58.477442Z"
    }
   },
   "source": [
    "%load_ext sql"
   ],
   "outputs": [
    {
     "name": "stdout",
     "output_type": "stream",
     "text": [
      "The sql extension is already loaded. To reload it, use:\n",
      "  %reload_ext sql\n"
     ]
    }
   ],
   "execution_count": 78
  },
  {
   "metadata": {
    "ExecuteTime": {
     "end_time": "2024-12-30T00:19:58.505884Z",
     "start_time": "2024-12-30T00:19:58.501341Z"
    }
   },
   "cell_type": "code",
   "source": [
    "prettytable.DEFAULT = 'DEFAULT'\n",
    "\n",
    "con = sqlite3.connect(\"my_data1.db\")\n",
    "cur = con.cursor()"
   ],
   "id": "e6522e7471e6c6f1",
   "outputs": [],
   "execution_count": 79
  },
  {
   "cell_type": "code",
   "id": "290dca6c-5fcd-464c-a712-64a1bdbb13e7",
   "metadata": {
    "ExecuteTime": {
     "end_time": "2024-12-30T00:19:58.525013Z",
     "start_time": "2024-12-30T00:19:58.521912Z"
    }
   },
   "source": [
    "%sql sqlite:///my_data1.db"
   ],
   "outputs": [],
   "execution_count": 80
  },
  {
   "cell_type": "code",
   "id": "009c2f53-1bf1-4b25-9ce7-06106b4101e3",
   "metadata": {
    "ExecuteTime": {
     "end_time": "2024-12-30T00:19:58.802786Z",
     "start_time": "2024-12-30T00:19:58.536408Z"
    }
   },
   "source": [
    "df = pd.read_csv(\"https://cf-courses-data.s3.us.cloud-object-storage.appdomain.cloud/IBM-DS0321EN-SkillsNetwork/labs/module_2/data/Spacex.csv\")\n",
    "df.to_sql(\"SPACEXTBL\", con, if_exists='replace', index=False,method=\"multi\")"
   ],
   "outputs": [
    {
     "data": {
      "text/plain": [
       "101"
      ]
     },
     "execution_count": 81,
     "metadata": {},
     "output_type": "execute_result"
    }
   ],
   "execution_count": 81
  },
  {
   "cell_type": "code",
   "id": "baff0fc5-a720-4ea3-968d-24232afc790b",
   "metadata": {
    "ExecuteTime": {
     "end_time": "2024-12-30T00:19:58.839921Z",
     "start_time": "2024-12-30T00:19:58.828710Z"
    }
   },
   "source": "%sql DROP TABLE IF EXISTS SPACEXTABLE;",
   "outputs": [
    {
     "name": "stdout",
     "output_type": "stream",
     "text": [
      " * sqlite:///my_data1.db\n",
      "Done.\n"
     ]
    },
    {
     "data": {
      "text/plain": [
       "[]"
      ]
     },
     "execution_count": 82,
     "metadata": {},
     "output_type": "execute_result"
    }
   ],
   "execution_count": 82
  },
  {
   "metadata": {
    "ExecuteTime": {
     "end_time": "2024-12-30T00:19:58.891411Z",
     "start_time": "2024-12-30T00:19:58.880665Z"
    }
   },
   "cell_type": "code",
   "source": "%sql create table SPACEXTABLE as select * from SPACEXTBL where Date is not null",
   "id": "8f7f47087ccf0786",
   "outputs": [
    {
     "name": "stdout",
     "output_type": "stream",
     "text": [
      " * sqlite:///my_data1.db\n",
      "Done.\n"
     ]
    },
    {
     "data": {
      "text/plain": [
       "[]"
      ]
     },
     "execution_count": 83,
     "metadata": {},
     "output_type": "execute_result"
    }
   ],
   "execution_count": 83
  },
  {
   "metadata": {
    "ExecuteTime": {
     "end_time": "2024-12-30T00:19:58.937662Z",
     "start_time": "2024-12-30T00:19:58.931443Z"
    }
   },
   "cell_type": "code",
   "source": "%sql PRAGMA table_info(SPACEXTBL);\n",
   "id": "eecad17f95ae29e5",
   "outputs": [
    {
     "name": "stdout",
     "output_type": "stream",
     "text": [
      " * sqlite:///my_data1.db\n",
      "Done.\n"
     ]
    },
    {
     "data": {
      "text/plain": [
       "[(0, 'Date', 'TEXT', 0, None, 0),\n",
       " (1, 'Time (UTC)', 'TEXT', 0, None, 0),\n",
       " (2, 'Booster_Version', 'TEXT', 0, None, 0),\n",
       " (3, 'Launch_Site', 'TEXT', 0, None, 0),\n",
       " (4, 'Payload', 'TEXT', 0, None, 0),\n",
       " (5, 'PAYLOAD_MASS__KG_', 'INTEGER', 0, None, 0),\n",
       " (6, 'Orbit', 'TEXT', 0, None, 0),\n",
       " (7, 'Customer', 'TEXT', 0, None, 0),\n",
       " (8, 'Mission_Outcome', 'TEXT', 0, None, 0),\n",
       " (9, 'Landing_Outcome', 'TEXT', 0, None, 0)]"
      ],
      "text/html": [
       "<table>\n",
       "    <thead>\n",
       "        <tr>\n",
       "            <th>cid</th>\n",
       "            <th>name</th>\n",
       "            <th>type</th>\n",
       "            <th>notnull</th>\n",
       "            <th>dflt_value</th>\n",
       "            <th>pk</th>\n",
       "        </tr>\n",
       "    </thead>\n",
       "    <tbody>\n",
       "        <tr>\n",
       "            <td>0</td>\n",
       "            <td>Date</td>\n",
       "            <td>TEXT</td>\n",
       "            <td>0</td>\n",
       "            <td>None</td>\n",
       "            <td>0</td>\n",
       "        </tr>\n",
       "        <tr>\n",
       "            <td>1</td>\n",
       "            <td>Time (UTC)</td>\n",
       "            <td>TEXT</td>\n",
       "            <td>0</td>\n",
       "            <td>None</td>\n",
       "            <td>0</td>\n",
       "        </tr>\n",
       "        <tr>\n",
       "            <td>2</td>\n",
       "            <td>Booster_Version</td>\n",
       "            <td>TEXT</td>\n",
       "            <td>0</td>\n",
       "            <td>None</td>\n",
       "            <td>0</td>\n",
       "        </tr>\n",
       "        <tr>\n",
       "            <td>3</td>\n",
       "            <td>Launch_Site</td>\n",
       "            <td>TEXT</td>\n",
       "            <td>0</td>\n",
       "            <td>None</td>\n",
       "            <td>0</td>\n",
       "        </tr>\n",
       "        <tr>\n",
       "            <td>4</td>\n",
       "            <td>Payload</td>\n",
       "            <td>TEXT</td>\n",
       "            <td>0</td>\n",
       "            <td>None</td>\n",
       "            <td>0</td>\n",
       "        </tr>\n",
       "        <tr>\n",
       "            <td>5</td>\n",
       "            <td>PAYLOAD_MASS__KG_</td>\n",
       "            <td>INTEGER</td>\n",
       "            <td>0</td>\n",
       "            <td>None</td>\n",
       "            <td>0</td>\n",
       "        </tr>\n",
       "        <tr>\n",
       "            <td>6</td>\n",
       "            <td>Orbit</td>\n",
       "            <td>TEXT</td>\n",
       "            <td>0</td>\n",
       "            <td>None</td>\n",
       "            <td>0</td>\n",
       "        </tr>\n",
       "        <tr>\n",
       "            <td>7</td>\n",
       "            <td>Customer</td>\n",
       "            <td>TEXT</td>\n",
       "            <td>0</td>\n",
       "            <td>None</td>\n",
       "            <td>0</td>\n",
       "        </tr>\n",
       "        <tr>\n",
       "            <td>8</td>\n",
       "            <td>Mission_Outcome</td>\n",
       "            <td>TEXT</td>\n",
       "            <td>0</td>\n",
       "            <td>None</td>\n",
       "            <td>0</td>\n",
       "        </tr>\n",
       "        <tr>\n",
       "            <td>9</td>\n",
       "            <td>Landing_Outcome</td>\n",
       "            <td>TEXT</td>\n",
       "            <td>0</td>\n",
       "            <td>None</td>\n",
       "            <td>0</td>\n",
       "        </tr>\n",
       "    </tbody>\n",
       "</table>"
      ]
     },
     "execution_count": 84,
     "metadata": {},
     "output_type": "execute_result"
    }
   ],
   "execution_count": 84
  },
  {
   "metadata": {},
   "cell_type": "markdown",
   "source": "# Flight Number vs Launch Site",
   "id": "9b49549628cc3ca5"
  },
  {
   "metadata": {
    "ExecuteTime": {
     "end_time": "2024-12-30T00:19:59.262837Z",
     "start_time": "2024-12-30T00:19:58.977894Z"
    }
   },
   "cell_type": "code",
   "source": [
    "import io\n",
    "URL = \"https://cf-courses-data.s3.us.cloud-object-storage.appdomain.cloud/IBM-DS0321EN-SkillsNetwork/datasets/dataset_part_2.csv\"\n",
    "\n",
    "# Fetch the data\n",
    "response = requests.get(URL)\n",
    "\n",
    "# Convert the data to a BytesIO object\n",
    "dataset_part_2_csv = io.BytesIO(response.content)\n",
    "\n",
    "# Read the CSV data into a pandas DataFrame\n",
    "df = pd.read_csv(dataset_part_2_csv)\n",
    "\n",
    "# Display the first 5 rows\n",
    "df.head(5)"
   ],
   "id": "817f8fa082d7d756",
   "outputs": [
    {
     "data": {
      "text/plain": [
       "   FlightNumber        Date BoosterVersion  PayloadMass Orbit    LaunchSite  \\\n",
       "0             1  2010-06-04       Falcon 9  6104.959412   LEO  CCAFS SLC 40   \n",
       "1             2  2012-05-22       Falcon 9   525.000000   LEO  CCAFS SLC 40   \n",
       "2             3  2013-03-01       Falcon 9   677.000000   ISS  CCAFS SLC 40   \n",
       "3             4  2013-09-29       Falcon 9   500.000000    PO   VAFB SLC 4E   \n",
       "4             5  2013-12-03       Falcon 9  3170.000000   GTO  CCAFS SLC 40   \n",
       "\n",
       "       Outcome  Flights  GridFins  Reused   Legs LandingPad  Block  \\\n",
       "0    None None        1     False   False  False        NaN    1.0   \n",
       "1    None None        1     False   False  False        NaN    1.0   \n",
       "2    None None        1     False   False  False        NaN    1.0   \n",
       "3  False Ocean        1     False   False  False        NaN    1.0   \n",
       "4    None None        1     False   False  False        NaN    1.0   \n",
       "\n",
       "   ReusedCount Serial   Longitude   Latitude  Class  \n",
       "0            0  B0003  -80.577366  28.561857      0  \n",
       "1            0  B0005  -80.577366  28.561857      0  \n",
       "2            0  B0007  -80.577366  28.561857      0  \n",
       "3            0  B1003 -120.610829  34.632093      0  \n",
       "4            0  B1004  -80.577366  28.561857      0  "
      ],
      "text/html": [
       "<div>\n",
       "<style scoped>\n",
       "    .dataframe tbody tr th:only-of-type {\n",
       "        vertical-align: middle;\n",
       "    }\n",
       "\n",
       "    .dataframe tbody tr th {\n",
       "        vertical-align: top;\n",
       "    }\n",
       "\n",
       "    .dataframe thead th {\n",
       "        text-align: right;\n",
       "    }\n",
       "</style>\n",
       "<table border=\"1\" class=\"dataframe\">\n",
       "  <thead>\n",
       "    <tr style=\"text-align: right;\">\n",
       "      <th></th>\n",
       "      <th>FlightNumber</th>\n",
       "      <th>Date</th>\n",
       "      <th>BoosterVersion</th>\n",
       "      <th>PayloadMass</th>\n",
       "      <th>Orbit</th>\n",
       "      <th>LaunchSite</th>\n",
       "      <th>Outcome</th>\n",
       "      <th>Flights</th>\n",
       "      <th>GridFins</th>\n",
       "      <th>Reused</th>\n",
       "      <th>Legs</th>\n",
       "      <th>LandingPad</th>\n",
       "      <th>Block</th>\n",
       "      <th>ReusedCount</th>\n",
       "      <th>Serial</th>\n",
       "      <th>Longitude</th>\n",
       "      <th>Latitude</th>\n",
       "      <th>Class</th>\n",
       "    </tr>\n",
       "  </thead>\n",
       "  <tbody>\n",
       "    <tr>\n",
       "      <th>0</th>\n",
       "      <td>1</td>\n",
       "      <td>2010-06-04</td>\n",
       "      <td>Falcon 9</td>\n",
       "      <td>6104.959412</td>\n",
       "      <td>LEO</td>\n",
       "      <td>CCAFS SLC 40</td>\n",
       "      <td>None None</td>\n",
       "      <td>1</td>\n",
       "      <td>False</td>\n",
       "      <td>False</td>\n",
       "      <td>False</td>\n",
       "      <td>NaN</td>\n",
       "      <td>1.0</td>\n",
       "      <td>0</td>\n",
       "      <td>B0003</td>\n",
       "      <td>-80.577366</td>\n",
       "      <td>28.561857</td>\n",
       "      <td>0</td>\n",
       "    </tr>\n",
       "    <tr>\n",
       "      <th>1</th>\n",
       "      <td>2</td>\n",
       "      <td>2012-05-22</td>\n",
       "      <td>Falcon 9</td>\n",
       "      <td>525.000000</td>\n",
       "      <td>LEO</td>\n",
       "      <td>CCAFS SLC 40</td>\n",
       "      <td>None None</td>\n",
       "      <td>1</td>\n",
       "      <td>False</td>\n",
       "      <td>False</td>\n",
       "      <td>False</td>\n",
       "      <td>NaN</td>\n",
       "      <td>1.0</td>\n",
       "      <td>0</td>\n",
       "      <td>B0005</td>\n",
       "      <td>-80.577366</td>\n",
       "      <td>28.561857</td>\n",
       "      <td>0</td>\n",
       "    </tr>\n",
       "    <tr>\n",
       "      <th>2</th>\n",
       "      <td>3</td>\n",
       "      <td>2013-03-01</td>\n",
       "      <td>Falcon 9</td>\n",
       "      <td>677.000000</td>\n",
       "      <td>ISS</td>\n",
       "      <td>CCAFS SLC 40</td>\n",
       "      <td>None None</td>\n",
       "      <td>1</td>\n",
       "      <td>False</td>\n",
       "      <td>False</td>\n",
       "      <td>False</td>\n",
       "      <td>NaN</td>\n",
       "      <td>1.0</td>\n",
       "      <td>0</td>\n",
       "      <td>B0007</td>\n",
       "      <td>-80.577366</td>\n",
       "      <td>28.561857</td>\n",
       "      <td>0</td>\n",
       "    </tr>\n",
       "    <tr>\n",
       "      <th>3</th>\n",
       "      <td>4</td>\n",
       "      <td>2013-09-29</td>\n",
       "      <td>Falcon 9</td>\n",
       "      <td>500.000000</td>\n",
       "      <td>PO</td>\n",
       "      <td>VAFB SLC 4E</td>\n",
       "      <td>False Ocean</td>\n",
       "      <td>1</td>\n",
       "      <td>False</td>\n",
       "      <td>False</td>\n",
       "      <td>False</td>\n",
       "      <td>NaN</td>\n",
       "      <td>1.0</td>\n",
       "      <td>0</td>\n",
       "      <td>B1003</td>\n",
       "      <td>-120.610829</td>\n",
       "      <td>34.632093</td>\n",
       "      <td>0</td>\n",
       "    </tr>\n",
       "    <tr>\n",
       "      <th>4</th>\n",
       "      <td>5</td>\n",
       "      <td>2013-12-03</td>\n",
       "      <td>Falcon 9</td>\n",
       "      <td>3170.000000</td>\n",
       "      <td>GTO</td>\n",
       "      <td>CCAFS SLC 40</td>\n",
       "      <td>None None</td>\n",
       "      <td>1</td>\n",
       "      <td>False</td>\n",
       "      <td>False</td>\n",
       "      <td>False</td>\n",
       "      <td>NaN</td>\n",
       "      <td>1.0</td>\n",
       "      <td>0</td>\n",
       "      <td>B1004</td>\n",
       "      <td>-80.577366</td>\n",
       "      <td>28.561857</td>\n",
       "      <td>0</td>\n",
       "    </tr>\n",
       "  </tbody>\n",
       "</table>\n",
       "</div>"
      ]
     },
     "execution_count": 85,
     "metadata": {},
     "output_type": "execute_result"
    }
   ],
   "execution_count": 85
  },
  {
   "metadata": {
    "ExecuteTime": {
     "end_time": "2024-12-30T00:19:59.311190Z",
     "start_time": "2024-12-30T00:19:59.305563Z"
    }
   },
   "cell_type": "code",
   "source": "df.dtypes",
   "id": "82409ed7262f0adb",
   "outputs": [
    {
     "data": {
      "text/plain": [
       "FlightNumber        int64\n",
       "Date               object\n",
       "BoosterVersion     object\n",
       "PayloadMass       float64\n",
       "Orbit              object\n",
       "LaunchSite         object\n",
       "Outcome            object\n",
       "Flights             int64\n",
       "GridFins             bool\n",
       "Reused               bool\n",
       "Legs                 bool\n",
       "LandingPad         object\n",
       "Block             float64\n",
       "ReusedCount         int64\n",
       "Serial             object\n",
       "Longitude         float64\n",
       "Latitude          float64\n",
       "Class               int64\n",
       "dtype: object"
      ]
     },
     "execution_count": 86,
     "metadata": {},
     "output_type": "execute_result"
    }
   ],
   "execution_count": 86
  },
  {
   "metadata": {
    "ExecuteTime": {
     "end_time": "2024-12-30T00:19:59.468980Z",
     "start_time": "2024-12-30T00:19:59.370448Z"
    }
   },
   "cell_type": "code",
   "source": [
    "sns.scatterplot(x='FlightNumber', y='LaunchSite', data=df)\n",
    "\n",
    "plt.title('Flight Number vs Launch Site')\n",
    "plt.xlabel('Flight Number')\n",
    "plt.ylabel('Launch Site')\n",
    "\n",
    "plt.show()"
   ],
   "id": "82fac557663dfb48",
   "outputs": [
    {
     "data": {
      "text/plain": [
       "<Figure size 640x480 with 1 Axes>"
      ],
      "image/png": "[encoded data removed]"
     },
     "metadata": {},
     "output_type": "display_data"
    }
   ],
   "execution_count": 87
  },
  {
   "metadata": {},
   "cell_type": "markdown",
   "source": "# Payload vs Launch Site",
   "id": "1adbf3d60c079dde"
  },
  {
   "metadata": {
    "ExecuteTime": {
     "end_time": "2024-12-30T00:19:59.578915Z",
     "start_time": "2024-12-30T00:19:59.496421Z"
    }
   },
   "cell_type": "code",
   "source": [
    "sns.scatterplot(x='PayloadMass', y='LaunchSite', data=df)\n",
    "\n",
    "plt.title('PayloadMass vs Launch Site')\n",
    "plt.xlabel('PayloadMass')\n",
    "plt.ylabel('Launch Site')\n",
    "\n",
    "plt.show()"
   ],
   "id": "2742ca8ce84c0335",
   "outputs": [
    {
     "data": {
      "text/plain": [
       "<Figure size 640x480 with 1 Axes>"
      ],
      "image/png": "[encoded data removed]"
     },
     "metadata": {},
     "output_type": "display_data"
    }
   ],
   "execution_count": 88
  },
  {
   "metadata": {
    "ExecuteTime": {
     "end_time": "2024-12-30T00:19:59.701805Z",
     "start_time": "2024-12-30T00:19:59.598958Z"
    }
   },
   "cell_type": "code",
   "source": [
    "success_rate_by_orbit = df.groupby('Orbit')['Class'].mean().reset_index()\n",
    "\n",
    "# Plot the success rates using a bar plot\n",
    "sns.barplot(data=success_rate_by_orbit, x='Orbit', y='Class')\n",
    "\n",
    "# Add labels and a title for better understanding\n",
    "plt.xlabel('Orbit Type')\n",
    "plt.ylabel('Success Rate')\n",
    "plt.title('Success Rate of Each Orbit Type')\n",
    "\n",
    "# Show the plot\n",
    "plt.xticks(rotation=45)  # Rotate x labels if needed for readability\n",
    "plt.show()"
   ],
   "id": "2c6e2a4ff2bfa84",
   "outputs": [
    {
     "data": {
      "text/plain": [
       "<Figure size 640x480 with 1 Axes>"
      ],
      "image/png": "[encoded data removed]"
     },
     "metadata": {},
     "output_type": "display_data"
    }
   ],
   "execution_count": 89
  },
  {
   "metadata": {},
   "cell_type": "markdown",
   "source": "# Flight Number vs Orbit Type",
   "id": "c5d6d6bcfa7a4e7c"
  },
  {
   "metadata": {
    "ExecuteTime": {
     "end_time": "2024-12-30T00:19:59.828795Z",
     "start_time": "2024-12-30T00:19:59.716188Z"
    }
   },
   "cell_type": "code",
   "source": [
    "sns.boxplot(data=df, x='Orbit', y='FlightNumber')\n",
    "\n",
    "# Add labels and title\n",
    "plt.xlabel('Orbit Type')\n",
    "plt.ylabel('Flight Number')\n",
    "plt.title('Distribution of Flight Number Across Orbit Types')\n",
    "\n",
    "# Show the plot\n",
    "plt.xticks(rotation=45)  # Rotate x labels for better readability\n",
    "plt.show()"
   ],
   "id": "df06dde54741641e",
   "outputs": [
    {
     "data": {
      "text/plain": [
       "<Figure size 640x480 with 1 Axes>"
      ],
      "image/png": "[encoded data removed]"
     },
     "metadata": {},
     "output_type": "display_data"
    }
   ],
   "execution_count": 90
  },
  {
   "metadata": {},
   "cell_type": "markdown",
   "source": "# Payload vs orbit type",
   "id": "b3fc9eeada0a2926"
  },
  {
   "metadata": {
    "ExecuteTime": {
     "end_time": "2024-12-30T00:19:59.963998Z",
     "start_time": "2024-12-30T00:19:59.856668Z"
    }
   },
   "cell_type": "code",
   "source": [
    "sns.scatterplot(data=df, x='PayloadMass', y='Orbit', hue='Class', palette='Set1')\n",
    "\n",
    "# Add labels and a title\n",
    "plt.xlabel('Payload Mass (kg)')\n",
    "plt.ylabel('Orbit Type')\n",
    "plt.title('Payload Mass vs Orbit Type by Mission Class')\n",
    "\n",
    "# Show the plot\n",
    "plt.legend(title='Mission Class')\n",
    "plt.show()"
   ],
   "id": "9805e779060b2c42",
   "outputs": [
    {
     "data": {
      "text/plain": [
       "<Figure size 640x480 with 1 Axes>"
      ],
      "image/png": "[encoded data removed]"
     },
     "metadata": {},
     "output_type": "display_data"
    }
   ],
   "execution_count": 91
  },
  {
   "metadata": {},
   "cell_type": "markdown",
   "source": "# Launch Success Yearly Trend",
   "id": "31c0c953946b6d16"
  },
  {
   "metadata": {
    "ExecuteTime": {
     "end_time": "2024-12-30T00:19:59.994104Z",
     "start_time": "2024-12-30T00:19:59.982348Z"
    }
   },
   "cell_type": "code",
   "source": [
    "year=[]\n",
    "def Extract_year():\n",
    "    for i in df[\"Date\"]:\n",
    "        year.append(i.split(\"-\")[0])\n",
    "    return year\n",
    "Extract_year()\n",
    "df['Date'] = year\n",
    "df.head()"
   ],
   "id": "7710c22c4703ace1",
   "outputs": [
    {
     "data": {
      "text/plain": [
       "   FlightNumber  Date BoosterVersion  PayloadMass Orbit    LaunchSite  \\\n",
       "0             1  2010       Falcon 9  6104.959412   LEO  CCAFS SLC 40   \n",
       "1             2  2012       Falcon 9   525.000000   LEO  CCAFS SLC 40   \n",
       "2             3  2013       Falcon 9   677.000000   ISS  CCAFS SLC 40   \n",
       "3             4  2013       Falcon 9   500.000000    PO   VAFB SLC 4E   \n",
       "4             5  2013       Falcon 9  3170.000000   GTO  CCAFS SLC 40   \n",
       "\n",
       "       Outcome  Flights  GridFins  Reused   Legs LandingPad  Block  \\\n",
       "0    None None        1     False   False  False        NaN    1.0   \n",
       "1    None None        1     False   False  False        NaN    1.0   \n",
       "2    None None        1     False   False  False        NaN    1.0   \n",
       "3  False Ocean        1     False   False  False        NaN    1.0   \n",
       "4    None None        1     False   False  False        NaN    1.0   \n",
       "\n",
       "   ReusedCount Serial   Longitude   Latitude  Class  \n",
       "0            0  B0003  -80.577366  28.561857      0  \n",
       "1            0  B0005  -80.577366  28.561857      0  \n",
       "2            0  B0007  -80.577366  28.561857      0  \n",
       "3            0  B1003 -120.610829  34.632093      0  \n",
       "4            0  B1004  -80.577366  28.561857      0  "
      ],
      "text/html": [
       "<div>\n",
       "<style scoped>\n",
       "    .dataframe tbody tr th:only-of-type {\n",
       "        vertical-align: middle;\n",
       "    }\n",
       "\n",
       "    .dataframe tbody tr th {\n",
       "        vertical-align: top;\n",
       "    }\n",
       "\n",
       "    .dataframe thead th {\n",
       "        text-align: right;\n",
       "    }\n",
       "</style>\n",
       "<table border=\"1\" class=\"dataframe\">\n",
       "  <thead>\n",
       "    <tr style=\"text-align: right;\">\n",
       "      <th></th>\n",
       "      <th>FlightNumber</th>\n",
       "      <th>Date</th>\n",
       "      <th>BoosterVersion</th>\n",
       "      <th>PayloadMass</th>\n",
       "      <th>Orbit</th>\n",
       "      <th>LaunchSite</th>\n",
       "      <th>Outcome</th>\n",
       "      <th>Flights</th>\n",
       "      <th>GridFins</th>\n",
       "      <th>Reused</th>\n",
       "      <th>Legs</th>\n",
       "      <th>LandingPad</th>\n",
       "      <th>Block</th>\n",
       "      <th>ReusedCount</th>\n",
       "      <th>Serial</th>\n",
       "      <th>Longitude</th>\n",
       "      <th>Latitude</th>\n",
       "      <th>Class</th>\n",
       "    </tr>\n",
       "  </thead>\n",
       "  <tbody>\n",
       "    <tr>\n",
       "      <th>0</th>\n",
       "      <td>1</td>\n",
       "      <td>2010</td>\n",
       "      <td>Falcon 9</td>\n",
       "      <td>6104.959412</td>\n",
       "      <td>LEO</td>\n",
       "      <td>CCAFS SLC 40</td>\n",
       "      <td>None None</td>\n",
       "      <td>1</td>\n",
       "      <td>False</td>\n",
       "      <td>False</td>\n",
       "      <td>False</td>\n",
       "      <td>NaN</td>\n",
       "      <td>1.0</td>\n",
       "      <td>0</td>\n",
       "      <td>B0003</td>\n",
       "      <td>-80.577366</td>\n",
       "      <td>28.561857</td>\n",
       "      <td>0</td>\n",
       "    </tr>\n",
       "    <tr>\n",
       "      <th>1</th>\n",
       "      <td>2</td>\n",
       "      <td>2012</td>\n",
       "      <td>Falcon 9</td>\n",
       "      <td>525.000000</td>\n",
       "      <td>LEO</td>\n",
       "      <td>CCAFS SLC 40</td>\n",
       "      <td>None None</td>\n",
       "      <td>1</td>\n",
       "      <td>False</td>\n",
       "      <td>False</td>\n",
       "      <td>False</td>\n",
       "      <td>NaN</td>\n",
       "      <td>1.0</td>\n",
       "      <td>0</td>\n",
       "      <td>B0005</td>\n",
       "      <td>-80.577366</td>\n",
       "      <td>28.561857</td>\n",
       "      <td>0</td>\n",
       "    </tr>\n",
       "    <tr>\n",
       "      <th>2</th>\n",
       "      <td>3</td>\n",
       "      <td>2013</td>\n",
       "      <td>Falcon 9</td>\n",
       "      <td>677.000000</td>\n",
       "      <td>ISS</td>\n",
       "      <td>CCAFS SLC 40</td>\n",
       "      <td>None None</td>\n",
       "      <td>1</td>\n",
       "      <td>False</td>\n",
       "      <td>False</td>\n",
       "      <td>False</td>\n",
       "      <td>NaN</td>\n",
       "      <td>1.0</td>\n",
       "      <td>0</td>\n",
       "      <td>B0007</td>\n",
       "      <td>-80.577366</td>\n",
       "      <td>28.561857</td>\n",
       "      <td>0</td>\n",
       "    </tr>\n",
       "    <tr>\n",
       "      <th>3</th>\n",
       "      <td>4</td>\n",
       "      <td>2013</td>\n",
       "      <td>Falcon 9</td>\n",
       "      <td>500.000000</td>\n",
       "      <td>PO</td>\n",
       "      <td>VAFB SLC 4E</td>\n",
       "      <td>False Ocean</td>\n",
       "      <td>1</td>\n",
       "      <td>False</td>\n",
       "      <td>False</td>\n",
       "      <td>False</td>\n",
       "      <td>NaN</td>\n",
       "      <td>1.0</td>\n",
       "      <td>0</td>\n",
       "      <td>B1003</td>\n",
       "      <td>-120.610829</td>\n",
       "      <td>34.632093</td>\n",
       "      <td>0</td>\n",
       "    </tr>\n",
       "    <tr>\n",
       "      <th>4</th>\n",
       "      <td>5</td>\n",
       "      <td>2013</td>\n",
       "      <td>Falcon 9</td>\n",
       "      <td>3170.000000</td>\n",
       "      <td>GTO</td>\n",
       "      <td>CCAFS SLC 40</td>\n",
       "      <td>None None</td>\n",
       "      <td>1</td>\n",
       "      <td>False</td>\n",
       "      <td>False</td>\n",
       "      <td>False</td>\n",
       "      <td>NaN</td>\n",
       "      <td>1.0</td>\n",
       "      <td>0</td>\n",
       "      <td>B1004</td>\n",
       "      <td>-80.577366</td>\n",
       "      <td>28.561857</td>\n",
       "      <td>0</td>\n",
       "    </tr>\n",
       "  </tbody>\n",
       "</table>\n",
       "</div>"
      ]
     },
     "execution_count": 92,
     "metadata": {},
     "output_type": "execute_result"
    }
   ],
   "execution_count": 92
  },
  {
   "metadata": {
    "ExecuteTime": {
     "end_time": "2024-12-30T00:20:00.332929Z",
     "start_time": "2024-12-30T00:20:00.242257Z"
    }
   },
   "cell_type": "code",
   "source": [
    "df['Year'] = pd.to_datetime(df['Date']).dt.year\n",
    "\n",
    "# Calculate the success rate for each year by grouping by the extracted year\n",
    "success_rate_by_year = df.groupby('Year')['Class'].mean().reset_index()\n",
    "\n",
    "# Create a line plot to visualize the success rate over the years\n",
    "sns.lineplot(data=success_rate_by_year, x='Year', y='Class', marker='o')\n",
    "\n",
    "# Add labels and a title\n",
    "plt.xlabel('Year')\n",
    "plt.ylabel('Success Rate')\n",
    "plt.title('Yearly Success Rate of Missions')\n",
    "\n",
    "# Show the plot\n",
    "plt.show()"
   ],
   "id": "a84b916d5e4f9fc4",
   "outputs": [
    {
     "data": {
      "text/plain": [
       "<Figure size 640x480 with 1 Axes>"
      ],
      "image/png": "[encoded data removed]"
     },
     "metadata": {},
     "output_type": "display_data"
    }
   ],
   "execution_count": 93
  },
  {
   "metadata": {},
   "cell_type": "markdown",
   "source": "# All Launch Site Names",
   "id": "828b9ea65ef37191"
  },
  {
   "metadata": {
    "ExecuteTime": {
     "end_time": "2024-12-30T00:20:00.368811Z",
     "start_time": "2024-12-30T00:20:00.362305Z"
    }
   },
   "cell_type": "code",
   "source": "%sql SELECT DISTINCT \"Launch_Site\" FROM SPACEXTBL;",
   "id": "eb1250b6dd1acdb1",
   "outputs": [
    {
     "name": "stdout",
     "output_type": "stream",
     "text": [
      " * sqlite:///my_data1.db\n",
      "Done.\n"
     ]
    },
    {
     "data": {
      "text/plain": [
       "[('CCAFS LC-40',), ('VAFB SLC-4E',), ('KSC LC-39A',), ('CCAFS SLC-40',)]"
      ],
      "text/html": [
       "<table>\n",
       "    <thead>\n",
       "        <tr>\n",
       "            <th>Launch_Site</th>\n",
       "        </tr>\n",
       "    </thead>\n",
       "    <tbody>\n",
       "        <tr>\n",
       "            <td>CCAFS LC-40</td>\n",
       "        </tr>\n",
       "        <tr>\n",
       "            <td>VAFB SLC-4E</td>\n",
       "        </tr>\n",
       "        <tr>\n",
       "            <td>KSC LC-39A</td>\n",
       "        </tr>\n",
       "        <tr>\n",
       "            <td>CCAFS SLC-40</td>\n",
       "        </tr>\n",
       "    </tbody>\n",
       "</table>"
      ]
     },
     "execution_count": 94,
     "metadata": {},
     "output_type": "execute_result"
    }
   ],
   "execution_count": 94
  },
  {
   "metadata": {},
   "cell_type": "markdown",
   "source": "# Launch Site Names Begin with 'CCA'\n",
   "id": "6c629a713f52cef1"
  },
  {
   "metadata": {
    "ExecuteTime": {
     "end_time": "2024-12-30T00:20:00.463491Z",
     "start_time": "2024-12-30T00:20:00.456895Z"
    }
   },
   "cell_type": "code",
   "source": [
    "%sql SELECT * FROM SPACEXTBL WHERE Launch_Site LIKE 'CCA%' LIMIT 5;\n",
    "\n"
   ],
   "id": "6512a10d93ca0161",
   "outputs": [
    {
     "name": "stdout",
     "output_type": "stream",
     "text": [
      " * sqlite:///my_data1.db\n",
      "Done.\n"
     ]
    },
    {
     "data": {
      "text/plain": [
       "[('2010-06-04', '18:45:00', 'F9 v1.0  B0003', 'CCAFS LC-40', 'Dragon Spacecraft Qualification Unit', 0, 'LEO', 'SpaceX', 'Success', 'Failure (parachute)'),\n",
       " ('2010-12-08', '15:43:00', 'F9 v1.0  B0004', 'CCAFS LC-40', 'Dragon demo flight C1, two CubeSats, barrel of Brouere cheese', 0, 'LEO (ISS)', 'NASA (COTS) NRO', 'Success', 'Failure (parachute)'),\n",
       " ('2012-05-22', '7:44:00', 'F9 v1.0  B0005', 'CCAFS LC-40', 'Dragon demo flight C2', 525, 'LEO (ISS)', 'NASA (COTS)', 'Success', 'No attempt'),\n",
       " ('2012-10-08', '0:35:00', 'F9 v1.0  B0006', 'CCAFS LC-40', 'SpaceX CRS-1', 500, 'LEO (ISS)', 'NASA (CRS)', 'Success', 'No attempt'),\n",
       " ('2013-03-01', '15:10:00', 'F9 v1.0  B0007', 'CCAFS LC-40', 'SpaceX CRS-2', 677, 'LEO (ISS)', 'NASA (CRS)', 'Success', 'No attempt')]"
      ],
      "text/html": [
       "<table>\n",
       "    <thead>\n",
       "        <tr>\n",
       "            <th>Date</th>\n",
       "            <th>Time (UTC)</th>\n",
       "            <th>Booster_Version</th>\n",
       "            <th>Launch_Site</th>\n",
       "            <th>Payload</th>\n",
       "            <th>PAYLOAD_MASS__KG_</th>\n",
       "            <th>Orbit</th>\n",
       "            <th>Customer</th>\n",
       "            <th>Mission_Outcome</th>\n",
       "            <th>Landing_Outcome</th>\n",
       "        </tr>\n",
       "    </thead>\n",
       "    <tbody>\n",
       "        <tr>\n",
       "            <td>2010-06-04</td>\n",
       "            <td>18:45:00</td>\n",
       "            <td>F9 v1.0  B0003</td>\n",
       "            <td>CCAFS LC-40</td>\n",
       "            <td>Dragon Spacecraft Qualification Unit</td>\n",
       "            <td>0</td>\n",
       "            <td>LEO</td>\n",
       "            <td>SpaceX</td>\n",
       "            <td>Success</td>\n",
       "            <td>Failure (parachute)</td>\n",
       "        </tr>\n",
       "        <tr>\n",
       "            <td>2010-12-08</td>\n",
       "            <td>15:43:00</td>\n",
       "            <td>F9 v1.0  B0004</td>\n",
       "            <td>CCAFS LC-40</td>\n",
       "            <td>Dragon demo flight C1, two CubeSats, barrel of Brouere cheese</td>\n",
       "            <td>0</td>\n",
       "            <td>LEO (ISS)</td>\n",
       "            <td>NASA (COTS) NRO</td>\n",
       "            <td>Success</td>\n",
       "            <td>Failure (parachute)</td>\n",
       "        </tr>\n",
       "        <tr>\n",
       "            <td>2012-05-22</td>\n",
       "            <td>7:44:00</td>\n",
       "            <td>F9 v1.0  B0005</td>\n",
       "            <td>CCAFS LC-40</td>\n",
       "            <td>Dragon demo flight C2</td>\n",
       "            <td>525</td>\n",
       "            <td>LEO (ISS)</td>\n",
       "            <td>NASA (COTS)</td>\n",
       "            <td>Success</td>\n",
       "            <td>No attempt</td>\n",
       "        </tr>\n",
       "        <tr>\n",
       "            <td>2012-10-08</td>\n",
       "            <td>0:35:00</td>\n",
       "            <td>F9 v1.0  B0006</td>\n",
       "            <td>CCAFS LC-40</td>\n",
       "            <td>SpaceX CRS-1</td>\n",
       "            <td>500</td>\n",
       "            <td>LEO (ISS)</td>\n",
       "            <td>NASA (CRS)</td>\n",
       "            <td>Success</td>\n",
       "            <td>No attempt</td>\n",
       "        </tr>\n",
       "        <tr>\n",
       "            <td>2013-03-01</td>\n",
       "            <td>15:10:00</td>\n",
       "            <td>F9 v1.0  B0007</td>\n",
       "            <td>CCAFS LC-40</td>\n",
       "            <td>SpaceX CRS-2</td>\n",
       "            <td>677</td>\n",
       "            <td>LEO (ISS)</td>\n",
       "            <td>NASA (CRS)</td>\n",
       "            <td>Success</td>\n",
       "            <td>No attempt</td>\n",
       "        </tr>\n",
       "    </tbody>\n",
       "</table>"
      ]
     },
     "execution_count": 95,
     "metadata": {},
     "output_type": "execute_result"
    }
   ],
   "execution_count": 95
  },
  {
   "metadata": {},
   "cell_type": "markdown",
   "source": "# Total Payload Mass",
   "id": "ce24a85b09c6719b"
  },
  {
   "metadata": {
    "ExecuteTime": {
     "end_time": "2024-12-30T00:20:00.529506Z",
     "start_time": "2024-12-30T00:20:00.523830Z"
    }
   },
   "cell_type": "code",
   "source": "%sql SELECT SUM(Payload_Mass__Kg_) AS Total_Payload_KG FROM SPACEXTBL WHERE Customer LIKE '%NASA%';\n",
   "id": "f8f14c87d07e92c9",
   "outputs": [
    {
     "name": "stdout",
     "output_type": "stream",
     "text": [
      " * sqlite:///my_data1.db\n",
      "Done.\n"
     ]
    },
    {
     "data": {
      "text/plain": [
       "[(107010,)]"
      ],
      "text/html": [
       "<table>\n",
       "    <thead>\n",
       "        <tr>\n",
       "            <th>Total_Payload_KG</th>\n",
       "        </tr>\n",
       "    </thead>\n",
       "    <tbody>\n",
       "        <tr>\n",
       "            <td>107010</td>\n",
       "        </tr>\n",
       "    </tbody>\n",
       "</table>"
      ]
     },
     "execution_count": 96,
     "metadata": {},
     "output_type": "execute_result"
    }
   ],
   "execution_count": 96
  },
  {
   "metadata": {},
   "cell_type": "markdown",
   "source": "# Average Payload Mass by F9 v1.1\n",
   "id": "c61716c5f9294ef"
  },
  {
   "metadata": {
    "ExecuteTime": {
     "end_time": "2024-12-30T00:20:00.575827Z",
     "start_time": "2024-12-30T00:20:00.570640Z"
    }
   },
   "cell_type": "code",
   "source": "%sql SELECT AVG(Payload_Mass__Kg_) AS Average_Payload_Kg FROM SPACEXTBL WHERE Booster_Version LIKE '%F9 V1.1%';",
   "id": "eebb927505c34d6d",
   "outputs": [
    {
     "name": "stdout",
     "output_type": "stream",
     "text": [
      " * sqlite:///my_data1.db\n",
      "Done.\n"
     ]
    },
    {
     "data": {
      "text/plain": [
       "[(2534.6666666666665,)]"
      ],
      "text/html": [
       "<table>\n",
       "    <thead>\n",
       "        <tr>\n",
       "            <th>Average_Payload_Kg</th>\n",
       "        </tr>\n",
       "    </thead>\n",
       "    <tbody>\n",
       "        <tr>\n",
       "            <td>2534.6666666666665</td>\n",
       "        </tr>\n",
       "    </tbody>\n",
       "</table>"
      ]
     },
     "execution_count": 97,
     "metadata": {},
     "output_type": "execute_result"
    }
   ],
   "execution_count": 97
  },
  {
   "metadata": {},
   "cell_type": "markdown",
   "source": "# First Successful Ground Landing Date\n",
   "id": "fe353f403a0b3c1"
  },
  {
   "metadata": {
    "ExecuteTime": {
     "end_time": "2024-12-30T00:20:00.612144Z",
     "start_time": "2024-12-30T00:20:00.605355Z"
    }
   },
   "cell_type": "code",
   "source": "%sql SELECT Date FROM SPACEXTBL\n",
   "id": "5893e195f50d5c46",
   "outputs": [
    {
     "name": "stdout",
     "output_type": "stream",
     "text": [
      " * sqlite:///my_data1.db\n",
      "Done.\n"
     ]
    },
    {
     "data": {
      "text/plain": [
       "[('2010-06-04',),\n",
       " ('2010-12-08',),\n",
       " ('2012-05-22',),\n",
       " ('2012-10-08',),\n",
       " ('2013-03-01',),\n",
       " ('2013-09-29',),\n",
       " ('2013-12-03',),\n",
       " ('2014-01-06',),\n",
       " ('2014-04-18',),\n",
       " ('2014-07-14',),\n",
       " ('2014-08-05',),\n",
       " ('2014-09-07',),\n",
       " ('2014-09-21',),\n",
       " ('2015-01-10',),\n",
       " ('2015-02-11',),\n",
       " ('2015-03-02',),\n",
       " ('2015-04-14',),\n",
       " ('2015-04-27',),\n",
       " ('2015-06-28',),\n",
       " ('2015-12-22',),\n",
       " ('2016-01-17',),\n",
       " ('2016-03-04',),\n",
       " ('2016-04-08',),\n",
       " ('2016-05-06',),\n",
       " ('2016-05-27',),\n",
       " ('2016-06-15',),\n",
       " ('2016-07-18',),\n",
       " ('2016-08-14',),\n",
       " ('2017-01-14',),\n",
       " ('2017-02-19',),\n",
       " ('2017-03-16',),\n",
       " ('2017-03-30',),\n",
       " ('2017-05-01',),\n",
       " ('2017-05-15',),\n",
       " ('2017-06-03',),\n",
       " ('2017-06-23',),\n",
       " ('2017-06-25',),\n",
       " ('2017-07-05',),\n",
       " ('2017-08-14',),\n",
       " ('2017-08-24',),\n",
       " ('2017-09-07',),\n",
       " ('2017-10-09',),\n",
       " ('2017-10-11',),\n",
       " ('2017-10-30',),\n",
       " ('2017-12-15',),\n",
       " ('2017-12-23',),\n",
       " ('2018-01-08',),\n",
       " ('2018-01-31',),\n",
       " ('2018-02-22',),\n",
       " ('2018-03-06',),\n",
       " ('2018-03-30',),\n",
       " ('2018-04-02',),\n",
       " ('2018-04-18',),\n",
       " ('2018-05-11',),\n",
       " ('2018-05-22',),\n",
       " ('2018-06-04',),\n",
       " ('2018-06-29',),\n",
       " ('2018-07-22',),\n",
       " ('2018-07-25',),\n",
       " ('2018-08-07',),\n",
       " ('2018-09-10',),\n",
       " ('2018-10-08',),\n",
       " ('2018-11-15',),\n",
       " ('2018-12-03',),\n",
       " ('2018-12-05',),\n",
       " ('2018-12-23',),\n",
       " ('2019-01-11',),\n",
       " ('2019-02-22',),\n",
       " ('2019-03-02',),\n",
       " ('2019-05-04',),\n",
       " ('2019-05-24',),\n",
       " ('2019-06-12',),\n",
       " ('2019-07-25',),\n",
       " ('2019-08-06',),\n",
       " ('2019-11-11',),\n",
       " ('2019-12-05',),\n",
       " ('2019-12-17',),\n",
       " ('2020-01-07',),\n",
       " ('2020-01-19',),\n",
       " ('2020-01-29',),\n",
       " ('2020-02-17',),\n",
       " ('2020-03-07',),\n",
       " ('2020-03-18',),\n",
       " ('2020-04-22',),\n",
       " ('2020-05-30',),\n",
       " ('2020-06-04',),\n",
       " ('2020-06-13',),\n",
       " ('2020-06-30',),\n",
       " ('2020-07-20',),\n",
       " ('2020-08-07',),\n",
       " ('2020-08-18',),\n",
       " ('2020-08-30',),\n",
       " ('2020-09-03',),\n",
       " ('2020-10-06',),\n",
       " ('2020-10-18',),\n",
       " ('2020-10-24',),\n",
       " ('2020-11-05',),\n",
       " ('2020-11-16',),\n",
       " ('2020-11-21',),\n",
       " ('2020-11-25',),\n",
       " ('2020-12-06',)]"
      ],
      "text/html": [
       "<table>\n",
       "    <thead>\n",
       "        <tr>\n",
       "            <th>Date</th>\n",
       "        </tr>\n",
       "    </thead>\n",
       "    <tbody>\n",
       "        <tr>\n",
       "            <td>2010-06-04</td>\n",
       "        </tr>\n",
       "        <tr>\n",
       "            <td>2010-12-08</td>\n",
       "        </tr>\n",
       "        <tr>\n",
       "            <td>2012-05-22</td>\n",
       "        </tr>\n",
       "        <tr>\n",
       "            <td>2012-10-08</td>\n",
       "        </tr>\n",
       "        <tr>\n",
       "            <td>2013-03-01</td>\n",
       "        </tr>\n",
       "        <tr>\n",
       "            <td>2013-09-29</td>\n",
       "        </tr>\n",
       "        <tr>\n",
       "            <td>2013-12-03</td>\n",
       "        </tr>\n",
       "        <tr>\n",
       "            <td>2014-01-06</td>\n",
       "        </tr>\n",
       "        <tr>\n",
       "            <td>2014-04-18</td>\n",
       "        </tr>\n",
       "        <tr>\n",
       "            <td>2014-07-14</td>\n",
       "        </tr>\n",
       "        <tr>\n",
       "            <td>2014-08-05</td>\n",
       "        </tr>\n",
       "        <tr>\n",
       "            <td>2014-09-07</td>\n",
       "        </tr>\n",
       "        <tr>\n",
       "            <td>2014-09-21</td>\n",
       "        </tr>\n",
       "        <tr>\n",
       "            <td>2015-01-10</td>\n",
       "        </tr>\n",
       "        <tr>\n",
       "            <td>2015-02-11</td>\n",
       "        </tr>\n",
       "        <tr>\n",
       "            <td>2015-03-02</td>\n",
       "        </tr>\n",
       "        <tr>\n",
       "            <td>2015-04-14</td>\n",
       "        </tr>\n",
       "        <tr>\n",
       "            <td>2015-04-27</td>\n",
       "        </tr>\n",
       "        <tr>\n",
       "            <td>2015-06-28</td>\n",
       "        </tr>\n",
       "        <tr>\n",
       "            <td>2015-12-22</td>\n",
       "        </tr>\n",
       "        <tr>\n",
       "            <td>2016-01-17</td>\n",
       "        </tr>\n",
       "        <tr>\n",
       "            <td>2016-03-04</td>\n",
       "        </tr>\n",
       "        <tr>\n",
       "            <td>2016-04-08</td>\n",
       "        </tr>\n",
       "        <tr>\n",
       "            <td>2016-05-06</td>\n",
       "        </tr>\n",
       "        <tr>\n",
       "            <td>2016-05-27</td>\n",
       "        </tr>\n",
       "        <tr>\n",
       "            <td>2016-06-15</td>\n",
       "        </tr>\n",
       "        <tr>\n",
       "            <td>2016-07-18</td>\n",
       "        </tr>\n",
       "        <tr>\n",
       "            <td>2016-08-14</td>\n",
       "        </tr>\n",
       "        <tr>\n",
       "            <td>2017-01-14</td>\n",
       "        </tr>\n",
       "        <tr>\n",
       "            <td>2017-02-19</td>\n",
       "        </tr>\n",
       "        <tr>\n",
       "            <td>2017-03-16</td>\n",
       "        </tr>\n",
       "        <tr>\n",
       "            <td>2017-03-30</td>\n",
       "        </tr>\n",
       "        <tr>\n",
       "            <td>2017-05-01</td>\n",
       "        </tr>\n",
       "        <tr>\n",
       "            <td>2017-05-15</td>\n",
       "        </tr>\n",
       "        <tr>\n",
       "            <td>2017-06-03</td>\n",
       "        </tr>\n",
       "        <tr>\n",
       "            <td>2017-06-23</td>\n",
       "        </tr>\n",
       "        <tr>\n",
       "            <td>2017-06-25</td>\n",
       "        </tr>\n",
       "        <tr>\n",
       "            <td>2017-07-05</td>\n",
       "        </tr>\n",
       "        <tr>\n",
       "            <td>2017-08-14</td>\n",
       "        </tr>\n",
       "        <tr>\n",
       "            <td>2017-08-24</td>\n",
       "        </tr>\n",
       "        <tr>\n",
       "            <td>2017-09-07</td>\n",
       "        </tr>\n",
       "        <tr>\n",
       "            <td>2017-10-09</td>\n",
       "        </tr>\n",
       "        <tr>\n",
       "            <td>2017-10-11</td>\n",
       "        </tr>\n",
       "        <tr>\n",
       "            <td>2017-10-30</td>\n",
       "        </tr>\n",
       "        <tr>\n",
       "            <td>2017-12-15</td>\n",
       "        </tr>\n",
       "        <tr>\n",
       "            <td>2017-12-23</td>\n",
       "        </tr>\n",
       "        <tr>\n",
       "            <td>2018-01-08</td>\n",
       "        </tr>\n",
       "        <tr>\n",
       "            <td>2018-01-31</td>\n",
       "        </tr>\n",
       "        <tr>\n",
       "            <td>2018-02-22</td>\n",
       "        </tr>\n",
       "        <tr>\n",
       "            <td>2018-03-06</td>\n",
       "        </tr>\n",
       "        <tr>\n",
       "            <td>2018-03-30</td>\n",
       "        </tr>\n",
       "        <tr>\n",
       "            <td>2018-04-02</td>\n",
       "        </tr>\n",
       "        <tr>\n",
       "            <td>2018-04-18</td>\n",
       "        </tr>\n",
       "        <tr>\n",
       "            <td>2018-05-11</td>\n",
       "        </tr>\n",
       "        <tr>\n",
       "            <td>2018-05-22</td>\n",
       "        </tr>\n",
       "        <tr>\n",
       "            <td>2018-06-04</td>\n",
       "        </tr>\n",
       "        <tr>\n",
       "            <td>2018-06-29</td>\n",
       "        </tr>\n",
       "        <tr>\n",
       "            <td>2018-07-22</td>\n",
       "        </tr>\n",
       "        <tr>\n",
       "            <td>2018-07-25</td>\n",
       "        </tr>\n",
       "        <tr>\n",
       "            <td>2018-08-07</td>\n",
       "        </tr>\n",
       "        <tr>\n",
       "            <td>2018-09-10</td>\n",
       "        </tr>\n",
       "        <tr>\n",
       "            <td>2018-10-08</td>\n",
       "        </tr>\n",
       "        <tr>\n",
       "            <td>2018-11-15</td>\n",
       "        </tr>\n",
       "        <tr>\n",
       "            <td>2018-12-03</td>\n",
       "        </tr>\n",
       "        <tr>\n",
       "            <td>2018-12-05</td>\n",
       "        </tr>\n",
       "        <tr>\n",
       "            <td>2018-12-23</td>\n",
       "        </tr>\n",
       "        <tr>\n",
       "            <td>2019-01-11</td>\n",
       "        </tr>\n",
       "        <tr>\n",
       "            <td>2019-02-22</td>\n",
       "        </tr>\n",
       "        <tr>\n",
       "            <td>2019-03-02</td>\n",
       "        </tr>\n",
       "        <tr>\n",
       "            <td>2019-05-04</td>\n",
       "        </tr>\n",
       "        <tr>\n",
       "            <td>2019-05-24</td>\n",
       "        </tr>\n",
       "        <tr>\n",
       "            <td>2019-06-12</td>\n",
       "        </tr>\n",
       "        <tr>\n",
       "            <td>2019-07-25</td>\n",
       "        </tr>\n",
       "        <tr>\n",
       "            <td>2019-08-06</td>\n",
       "        </tr>\n",
       "        <tr>\n",
       "            <td>2019-11-11</td>\n",
       "        </tr>\n",
       "        <tr>\n",
       "            <td>2019-12-05</td>\n",
       "        </tr>\n",
       "        <tr>\n",
       "            <td>2019-12-17</td>\n",
       "        </tr>\n",
       "        <tr>\n",
       "            <td>2020-01-07</td>\n",
       "        </tr>\n",
       "        <tr>\n",
       "            <td>2020-01-19</td>\n",
       "        </tr>\n",
       "        <tr>\n",
       "            <td>2020-01-29</td>\n",
       "        </tr>\n",
       "        <tr>\n",
       "            <td>2020-02-17</td>\n",
       "        </tr>\n",
       "        <tr>\n",
       "            <td>2020-03-07</td>\n",
       "        </tr>\n",
       "        <tr>\n",
       "            <td>2020-03-18</td>\n",
       "        </tr>\n",
       "        <tr>\n",
       "            <td>2020-04-22</td>\n",
       "        </tr>\n",
       "        <tr>\n",
       "            <td>2020-05-30</td>\n",
       "        </tr>\n",
       "        <tr>\n",
       "            <td>2020-06-04</td>\n",
       "        </tr>\n",
       "        <tr>\n",
       "            <td>2020-06-13</td>\n",
       "        </tr>\n",
       "        <tr>\n",
       "            <td>2020-06-30</td>\n",
       "        </tr>\n",
       "        <tr>\n",
       "            <td>2020-07-20</td>\n",
       "        </tr>\n",
       "        <tr>\n",
       "            <td>2020-08-07</td>\n",
       "        </tr>\n",
       "        <tr>\n",
       "            <td>2020-08-18</td>\n",
       "        </tr>\n",
       "        <tr>\n",
       "            <td>2020-08-30</td>\n",
       "        </tr>\n",
       "        <tr>\n",
       "            <td>2020-09-03</td>\n",
       "        </tr>\n",
       "        <tr>\n",
       "            <td>2020-10-06</td>\n",
       "        </tr>\n",
       "        <tr>\n",
       "            <td>2020-10-18</td>\n",
       "        </tr>\n",
       "        <tr>\n",
       "            <td>2020-10-24</td>\n",
       "        </tr>\n",
       "        <tr>\n",
       "            <td>2020-11-05</td>\n",
       "        </tr>\n",
       "        <tr>\n",
       "            <td>2020-11-16</td>\n",
       "        </tr>\n",
       "        <tr>\n",
       "            <td>2020-11-21</td>\n",
       "        </tr>\n",
       "        <tr>\n",
       "            <td>2020-11-25</td>\n",
       "        </tr>\n",
       "        <tr>\n",
       "            <td>2020-12-06</td>\n",
       "        </tr>\n",
       "    </tbody>\n",
       "</table>"
      ]
     },
     "execution_count": 98,
     "metadata": {},
     "output_type": "execute_result"
    }
   ],
   "execution_count": 98
  },
  {
   "metadata": {
    "ExecuteTime": {
     "end_time": "2024-12-30T00:20:00.671718Z",
     "start_time": "2024-12-30T00:20:00.665452Z"
    }
   },
   "cell_type": "code",
   "source": "%sql SELECT Mission_Outcome FROM SPACEXTBL",
   "id": "775da939ba01c00b",
   "outputs": [
    {
     "name": "stdout",
     "output_type": "stream",
     "text": [
      " * sqlite:///my_data1.db\n",
      "Done.\n"
     ]
    },
    {
     "data": {
      "text/plain": [
       "[('Success',),\n",
       " ('Success',),\n",
       " ('Success',),\n",
       " ('Success',),\n",
       " ('Success',),\n",
       " ('Success',),\n",
       " ('Success',),\n",
       " ('Success',),\n",
       " ('Success',),\n",
       " ('Success',),\n",
       " ('Success',),\n",
       " ('Success',),\n",
       " ('Success',),\n",
       " ('Success',),\n",
       " ('Success',),\n",
       " ('Success',),\n",
       " ('Success',),\n",
       " ('Success',),\n",
       " ('Failure (in flight)',),\n",
       " ('Success',),\n",
       " ('Success',),\n",
       " ('Success',),\n",
       " ('Success',),\n",
       " ('Success',),\n",
       " ('Success',),\n",
       " ('Success',),\n",
       " ('Success',),\n",
       " ('Success',),\n",
       " ('Success',),\n",
       " ('Success',),\n",
       " ('Success',),\n",
       " ('Success',),\n",
       " ('Success',),\n",
       " ('Success',),\n",
       " ('Success',),\n",
       " ('Success',),\n",
       " ('Success',),\n",
       " ('Success',),\n",
       " ('Success',),\n",
       " ('Success',),\n",
       " ('Success',),\n",
       " ('Success',),\n",
       " ('Success',),\n",
       " ('Success',),\n",
       " ('Success',),\n",
       " ('Success',),\n",
       " ('Success (payload status unclear)',),\n",
       " ('Success',),\n",
       " ('Success',),\n",
       " ('Success',),\n",
       " ('Success',),\n",
       " ('Success',),\n",
       " ('Success',),\n",
       " ('Success',),\n",
       " ('Success',),\n",
       " ('Success',),\n",
       " ('Success',),\n",
       " ('Success',),\n",
       " ('Success',),\n",
       " ('Success',),\n",
       " ('Success',),\n",
       " ('Success',),\n",
       " ('Success',),\n",
       " ('Success',),\n",
       " ('Success',),\n",
       " ('Success ',),\n",
       " ('Success',),\n",
       " ('Success',),\n",
       " ('Success',),\n",
       " ('Success',),\n",
       " ('Success',),\n",
       " ('Success',),\n",
       " ('Success',),\n",
       " ('Success',),\n",
       " ('Success',),\n",
       " ('Success',),\n",
       " ('Success',),\n",
       " ('Success',),\n",
       " ('Success',),\n",
       " ('Success',),\n",
       " ('Success',),\n",
       " ('Success',),\n",
       " ('Success',),\n",
       " ('Success',),\n",
       " ('Success',),\n",
       " ('Success',),\n",
       " ('Success',),\n",
       " ('Success',),\n",
       " ('Success',),\n",
       " ('Success',),\n",
       " ('Success',),\n",
       " ('Success',),\n",
       " ('Success',),\n",
       " ('Success',),\n",
       " ('Success',),\n",
       " ('Success',),\n",
       " ('Success',),\n",
       " ('Success',),\n",
       " ('Success',),\n",
       " ('Success',),\n",
       " ('Success',)]"
      ],
      "text/html": [
       "<table>\n",
       "    <thead>\n",
       "        <tr>\n",
       "            <th>Mission_Outcome</th>\n",
       "        </tr>\n",
       "    </thead>\n",
       "    <tbody>\n",
       "        <tr>\n",
       "            <td>Success</td>\n",
       "        </tr>\n",
       "        <tr>\n",
       "            <td>Success</td>\n",
       "        </tr>\n",
       "        <tr>\n",
       "            <td>Success</td>\n",
       "        </tr>\n",
       "        <tr>\n",
       "            <td>Success</td>\n",
       "        </tr>\n",
       "        <tr>\n",
       "            <td>Success</td>\n",
       "        </tr>\n",
       "        <tr>\n",
       "            <td>Success</td>\n",
       "        </tr>\n",
       "        <tr>\n",
       "            <td>Success</td>\n",
       "        </tr>\n",
       "        <tr>\n",
       "            <td>Success</td>\n",
       "        </tr>\n",
       "        <tr>\n",
       "            <td>Success</td>\n",
       "        </tr>\n",
       "        <tr>\n",
       "            <td>Success</td>\n",
       "        </tr>\n",
       "        <tr>\n",
       "            <td>Success</td>\n",
       "        </tr>\n",
       "        <tr>\n",
       "            <td>Success</td>\n",
       "        </tr>\n",
       "        <tr>\n",
       "            <td>Success</td>\n",
       "        </tr>\n",
       "        <tr>\n",
       "            <td>Success</td>\n",
       "        </tr>\n",
       "        <tr>\n",
       "            <td>Success</td>\n",
       "        </tr>\n",
       "        <tr>\n",
       "            <td>Success</td>\n",
       "        </tr>\n",
       "        <tr>\n",
       "            <td>Success</td>\n",
       "        </tr>\n",
       "        <tr>\n",
       "            <td>Success</td>\n",
       "        </tr>\n",
       "        <tr>\n",
       "            <td>Failure (in flight)</td>\n",
       "        </tr>\n",
       "        <tr>\n",
       "            <td>Success</td>\n",
       "        </tr>\n",
       "        <tr>\n",
       "            <td>Success</td>\n",
       "        </tr>\n",
       "        <tr>\n",
       "            <td>Success</td>\n",
       "        </tr>\n",
       "        <tr>\n",
       "            <td>Success</td>\n",
       "        </tr>\n",
       "        <tr>\n",
       "            <td>Success</td>\n",
       "        </tr>\n",
       "        <tr>\n",
       "            <td>Success</td>\n",
       "        </tr>\n",
       "        <tr>\n",
       "            <td>Success</td>\n",
       "        </tr>\n",
       "        <tr>\n",
       "            <td>Success</td>\n",
       "        </tr>\n",
       "        <tr>\n",
       "            <td>Success</td>\n",
       "        </tr>\n",
       "        <tr>\n",
       "            <td>Success</td>\n",
       "        </tr>\n",
       "        <tr>\n",
       "            <td>Success</td>\n",
       "        </tr>\n",
       "        <tr>\n",
       "            <td>Success</td>\n",
       "        </tr>\n",
       "        <tr>\n",
       "            <td>Success</td>\n",
       "        </tr>\n",
       "        <tr>\n",
       "            <td>Success</td>\n",
       "        </tr>\n",
       "        <tr>\n",
       "            <td>Success</td>\n",
       "        </tr>\n",
       "        <tr>\n",
       "            <td>Success</td>\n",
       "        </tr>\n",
       "        <tr>\n",
       "            <td>Success</td>\n",
       "        </tr>\n",
       "        <tr>\n",
       "            <td>Success</td>\n",
       "        </tr>\n",
       "        <tr>\n",
       "            <td>Success</td>\n",
       "        </tr>\n",
       "        <tr>\n",
       "            <td>Success</td>\n",
       "        </tr>\n",
       "        <tr>\n",
       "            <td>Success</td>\n",
       "        </tr>\n",
       "        <tr>\n",
       "            <td>Success</td>\n",
       "        </tr>\n",
       "        <tr>\n",
       "            <td>Success</td>\n",
       "        </tr>\n",
       "        <tr>\n",
       "            <td>Success</td>\n",
       "        </tr>\n",
       "        <tr>\n",
       "            <td>Success</td>\n",
       "        </tr>\n",
       "        <tr>\n",
       "            <td>Success</td>\n",
       "        </tr>\n",
       "        <tr>\n",
       "            <td>Success</td>\n",
       "        </tr>\n",
       "        <tr>\n",
       "            <td>Success (payload status unclear)</td>\n",
       "        </tr>\n",
       "        <tr>\n",
       "            <td>Success</td>\n",
       "        </tr>\n",
       "        <tr>\n",
       "            <td>Success</td>\n",
       "        </tr>\n",
       "        <tr>\n",
       "            <td>Success</td>\n",
       "        </tr>\n",
       "        <tr>\n",
       "            <td>Success</td>\n",
       "        </tr>\n",
       "        <tr>\n",
       "            <td>Success</td>\n",
       "        </tr>\n",
       "        <tr>\n",
       "            <td>Success</td>\n",
       "        </tr>\n",
       "        <tr>\n",
       "            <td>Success</td>\n",
       "        </tr>\n",
       "        <tr>\n",
       "            <td>Success</td>\n",
       "        </tr>\n",
       "        <tr>\n",
       "            <td>Success</td>\n",
       "        </tr>\n",
       "        <tr>\n",
       "            <td>Success</td>\n",
       "        </tr>\n",
       "        <tr>\n",
       "            <td>Success</td>\n",
       "        </tr>\n",
       "        <tr>\n",
       "            <td>Success</td>\n",
       "        </tr>\n",
       "        <tr>\n",
       "            <td>Success</td>\n",
       "        </tr>\n",
       "        <tr>\n",
       "            <td>Success</td>\n",
       "        </tr>\n",
       "        <tr>\n",
       "            <td>Success</td>\n",
       "        </tr>\n",
       "        <tr>\n",
       "            <td>Success</td>\n",
       "        </tr>\n",
       "        <tr>\n",
       "            <td>Success</td>\n",
       "        </tr>\n",
       "        <tr>\n",
       "            <td>Success</td>\n",
       "        </tr>\n",
       "        <tr>\n",
       "            <td>Success </td>\n",
       "        </tr>\n",
       "        <tr>\n",
       "            <td>Success</td>\n",
       "        </tr>\n",
       "        <tr>\n",
       "            <td>Success</td>\n",
       "        </tr>\n",
       "        <tr>\n",
       "            <td>Success</td>\n",
       "        </tr>\n",
       "        <tr>\n",
       "            <td>Success</td>\n",
       "        </tr>\n",
       "        <tr>\n",
       "            <td>Success</td>\n",
       "        </tr>\n",
       "        <tr>\n",
       "            <td>Success</td>\n",
       "        </tr>\n",
       "        <tr>\n",
       "            <td>Success</td>\n",
       "        </tr>\n",
       "        <tr>\n",
       "            <td>Success</td>\n",
       "        </tr>\n",
       "        <tr>\n",
       "            <td>Success</td>\n",
       "        </tr>\n",
       "        <tr>\n",
       "            <td>Success</td>\n",
       "        </tr>\n",
       "        <tr>\n",
       "            <td>Success</td>\n",
       "        </tr>\n",
       "        <tr>\n",
       "            <td>Success</td>\n",
       "        </tr>\n",
       "        <tr>\n",
       "            <td>Success</td>\n",
       "        </tr>\n",
       "        <tr>\n",
       "            <td>Success</td>\n",
       "        </tr>\n",
       "        <tr>\n",
       "            <td>Success</td>\n",
       "        </tr>\n",
       "        <tr>\n",
       "            <td>Success</td>\n",
       "        </tr>\n",
       "        <tr>\n",
       "            <td>Success</td>\n",
       "        </tr>\n",
       "        <tr>\n",
       "            <td>Success</td>\n",
       "        </tr>\n",
       "        <tr>\n",
       "            <td>Success</td>\n",
       "        </tr>\n",
       "        <tr>\n",
       "            <td>Success</td>\n",
       "        </tr>\n",
       "        <tr>\n",
       "            <td>Success</td>\n",
       "        </tr>\n",
       "        <tr>\n",
       "            <td>Success</td>\n",
       "        </tr>\n",
       "        <tr>\n",
       "            <td>Success</td>\n",
       "        </tr>\n",
       "        <tr>\n",
       "            <td>Success</td>\n",
       "        </tr>\n",
       "        <tr>\n",
       "            <td>Success</td>\n",
       "        </tr>\n",
       "        <tr>\n",
       "            <td>Success</td>\n",
       "        </tr>\n",
       "        <tr>\n",
       "            <td>Success</td>\n",
       "        </tr>\n",
       "        <tr>\n",
       "            <td>Success</td>\n",
       "        </tr>\n",
       "        <tr>\n",
       "            <td>Success</td>\n",
       "        </tr>\n",
       "        <tr>\n",
       "            <td>Success</td>\n",
       "        </tr>\n",
       "        <tr>\n",
       "            <td>Success</td>\n",
       "        </tr>\n",
       "        <tr>\n",
       "            <td>Success</td>\n",
       "        </tr>\n",
       "        <tr>\n",
       "            <td>Success</td>\n",
       "        </tr>\n",
       "        <tr>\n",
       "            <td>Success</td>\n",
       "        </tr>\n",
       "        <tr>\n",
       "            <td>Success</td>\n",
       "        </tr>\n",
       "    </tbody>\n",
       "</table>"
      ]
     },
     "execution_count": 99,
     "metadata": {},
     "output_type": "execute_result"
    }
   ],
   "execution_count": 99
  },
  {
   "metadata": {
    "ExecuteTime": {
     "end_time": "2024-12-30T00:20:00.728722Z",
     "start_time": "2024-12-30T00:20:00.721723Z"
    }
   },
   "cell_type": "code",
   "source": "%sql SELECT Date FROM SPACEXTBL WHERE Mission_Outcome = 'Success' AND Landing_Outcome = 'Success (ground pad)' ORDER BY Date ASC LIMIT 1",
   "id": "bbc580524652b65e",
   "outputs": [
    {
     "name": "stdout",
     "output_type": "stream",
     "text": [
      " * sqlite:///my_data1.db\n",
      "Done.\n"
     ]
    },
    {
     "data": {
      "text/plain": [
       "[('2015-12-22',)]"
      ],
      "text/html": [
       "<table>\n",
       "    <thead>\n",
       "        <tr>\n",
       "            <th>Date</th>\n",
       "        </tr>\n",
       "    </thead>\n",
       "    <tbody>\n",
       "        <tr>\n",
       "            <td>2015-12-22</td>\n",
       "        </tr>\n",
       "    </tbody>\n",
       "</table>"
      ]
     },
     "execution_count": 100,
     "metadata": {},
     "output_type": "execute_result"
    }
   ],
   "execution_count": 100
  },
  {
   "metadata": {
    "ExecuteTime": {
     "end_time": "2024-12-30T00:20:00.765639Z",
     "start_time": "2024-12-30T00:20:00.757949Z"
    }
   },
   "cell_type": "code",
   "source": "%sql PRAGMA table_info(SPACEXTBL);\n",
   "id": "a6d2921c3599689b",
   "outputs": [
    {
     "name": "stdout",
     "output_type": "stream",
     "text": [
      " * sqlite:///my_data1.db\n",
      "Done.\n"
     ]
    },
    {
     "data": {
      "text/plain": [
       "[(0, 'Date', 'TEXT', 0, None, 0),\n",
       " (1, 'Time (UTC)', 'TEXT', 0, None, 0),\n",
       " (2, 'Booster_Version', 'TEXT', 0, None, 0),\n",
       " (3, 'Launch_Site', 'TEXT', 0, None, 0),\n",
       " (4, 'Payload', 'TEXT', 0, None, 0),\n",
       " (5, 'PAYLOAD_MASS__KG_', 'INTEGER', 0, None, 0),\n",
       " (6, 'Orbit', 'TEXT', 0, None, 0),\n",
       " (7, 'Customer', 'TEXT', 0, None, 0),\n",
       " (8, 'Mission_Outcome', 'TEXT', 0, None, 0),\n",
       " (9, 'Landing_Outcome', 'TEXT', 0, None, 0)]"
      ],
      "text/html": [
       "<table>\n",
       "    <thead>\n",
       "        <tr>\n",
       "            <th>cid</th>\n",
       "            <th>name</th>\n",
       "            <th>type</th>\n",
       "            <th>notnull</th>\n",
       "            <th>dflt_value</th>\n",
       "            <th>pk</th>\n",
       "        </tr>\n",
       "    </thead>\n",
       "    <tbody>\n",
       "        <tr>\n",
       "            <td>0</td>\n",
       "            <td>Date</td>\n",
       "            <td>TEXT</td>\n",
       "            <td>0</td>\n",
       "            <td>None</td>\n",
       "            <td>0</td>\n",
       "        </tr>\n",
       "        <tr>\n",
       "            <td>1</td>\n",
       "            <td>Time (UTC)</td>\n",
       "            <td>TEXT</td>\n",
       "            <td>0</td>\n",
       "            <td>None</td>\n",
       "            <td>0</td>\n",
       "        </tr>\n",
       "        <tr>\n",
       "            <td>2</td>\n",
       "            <td>Booster_Version</td>\n",
       "            <td>TEXT</td>\n",
       "            <td>0</td>\n",
       "            <td>None</td>\n",
       "            <td>0</td>\n",
       "        </tr>\n",
       "        <tr>\n",
       "            <td>3</td>\n",
       "            <td>Launch_Site</td>\n",
       "            <td>TEXT</td>\n",
       "            <td>0</td>\n",
       "            <td>None</td>\n",
       "            <td>0</td>\n",
       "        </tr>\n",
       "        <tr>\n",
       "            <td>4</td>\n",
       "            <td>Payload</td>\n",
       "            <td>TEXT</td>\n",
       "            <td>0</td>\n",
       "            <td>None</td>\n",
       "            <td>0</td>\n",
       "        </tr>\n",
       "        <tr>\n",
       "            <td>5</td>\n",
       "            <td>PAYLOAD_MASS__KG_</td>\n",
       "            <td>INTEGER</td>\n",
       "            <td>0</td>\n",
       "            <td>None</td>\n",
       "            <td>0</td>\n",
       "        </tr>\n",
       "        <tr>\n",
       "            <td>6</td>\n",
       "            <td>Orbit</td>\n",
       "            <td>TEXT</td>\n",
       "            <td>0</td>\n",
       "            <td>None</td>\n",
       "            <td>0</td>\n",
       "        </tr>\n",
       "        <tr>\n",
       "            <td>7</td>\n",
       "            <td>Customer</td>\n",
       "            <td>TEXT</td>\n",
       "            <td>0</td>\n",
       "            <td>None</td>\n",
       "            <td>0</td>\n",
       "        </tr>\n",
       "        <tr>\n",
       "            <td>8</td>\n",
       "            <td>Mission_Outcome</td>\n",
       "            <td>TEXT</td>\n",
       "            <td>0</td>\n",
       "            <td>None</td>\n",
       "            <td>0</td>\n",
       "        </tr>\n",
       "        <tr>\n",
       "            <td>9</td>\n",
       "            <td>Landing_Outcome</td>\n",
       "            <td>TEXT</td>\n",
       "            <td>0</td>\n",
       "            <td>None</td>\n",
       "            <td>0</td>\n",
       "        </tr>\n",
       "    </tbody>\n",
       "</table>"
      ]
     },
     "execution_count": 101,
     "metadata": {},
     "output_type": "execute_result"
    }
   ],
   "execution_count": 101
  },
  {
   "metadata": {},
   "cell_type": "markdown",
   "source": "# Successful Drone Ship Landing with Payload between 4000 and 6000\n",
   "id": "73fd88c81d33ef0c"
  },
  {
   "metadata": {
    "ExecuteTime": {
     "end_time": "2024-12-30T00:20:00.814932Z",
     "start_time": "2024-12-30T00:20:00.809085Z"
    }
   },
   "cell_type": "code",
   "source": "%sql SELECT Booster_Version FROM SPACEXTBL WHERE Mission_Outcome = 'Success' AND Landing_Outcome = 'Success (drone ship)' AND PAYLOAD_MASS__KG_ BETWEEN 4000 AND 6000;\n",
   "id": "375188ed035fab3c",
   "outputs": [
    {
     "name": "stdout",
     "output_type": "stream",
     "text": [
      " * sqlite:///my_data1.db\n",
      "Done.\n"
     ]
    },
    {
     "data": {
      "text/plain": [
       "[('F9 FT B1022',), ('F9 FT B1026',), ('F9 FT  B1021.2',), ('F9 FT  B1031.2',)]"
      ],
      "text/html": [
       "<table>\n",
       "    <thead>\n",
       "        <tr>\n",
       "            <th>Booster_Version</th>\n",
       "        </tr>\n",
       "    </thead>\n",
       "    <tbody>\n",
       "        <tr>\n",
       "            <td>F9 FT B1022</td>\n",
       "        </tr>\n",
       "        <tr>\n",
       "            <td>F9 FT B1026</td>\n",
       "        </tr>\n",
       "        <tr>\n",
       "            <td>F9 FT  B1021.2</td>\n",
       "        </tr>\n",
       "        <tr>\n",
       "            <td>F9 FT  B1031.2</td>\n",
       "        </tr>\n",
       "    </tbody>\n",
       "</table>"
      ]
     },
     "execution_count": 102,
     "metadata": {},
     "output_type": "execute_result"
    }
   ],
   "execution_count": 102
  },
  {
   "metadata": {},
   "cell_type": "markdown",
   "source": "# Total Number of Successful and Failure Mission Outcomes\n",
   "id": "2fb709bd4639717d"
  },
  {
   "metadata": {
    "ExecuteTime": {
     "end_time": "2024-12-30T00:20:00.848217Z",
     "start_time": "2024-12-30T00:20:00.842475Z"
    }
   },
   "cell_type": "code",
   "source": "%sql SELECT Mission_Outcome, COUNT(*) AS Total FROM SPACEXTBL GROUP BY Mission_Outcome;\n",
   "id": "1bb8191c49a6f76c",
   "outputs": [
    {
     "name": "stdout",
     "output_type": "stream",
     "text": [
      " * sqlite:///my_data1.db\n",
      "Done.\n"
     ]
    },
    {
     "data": {
      "text/plain": [
       "[('Failure (in flight)', 1),\n",
       " ('Success', 98),\n",
       " ('Success ', 1),\n",
       " ('Success (payload status unclear)', 1)]"
      ],
      "text/html": [
       "<table>\n",
       "    <thead>\n",
       "        <tr>\n",
       "            <th>Mission_Outcome</th>\n",
       "            <th>Total</th>\n",
       "        </tr>\n",
       "    </thead>\n",
       "    <tbody>\n",
       "        <tr>\n",
       "            <td>Failure (in flight)</td>\n",
       "            <td>1</td>\n",
       "        </tr>\n",
       "        <tr>\n",
       "            <td>Success</td>\n",
       "            <td>98</td>\n",
       "        </tr>\n",
       "        <tr>\n",
       "            <td>Success </td>\n",
       "            <td>1</td>\n",
       "        </tr>\n",
       "        <tr>\n",
       "            <td>Success (payload status unclear)</td>\n",
       "            <td>1</td>\n",
       "        </tr>\n",
       "    </tbody>\n",
       "</table>"
      ]
     },
     "execution_count": 103,
     "metadata": {},
     "output_type": "execute_result"
    }
   ],
   "execution_count": 103
  },
  {
   "metadata": {},
   "cell_type": "markdown",
   "source": "# Boosters Carried Maximum Payload\n",
   "id": "bc6f8d344c6da28d"
  },
  {
   "metadata": {
    "ExecuteTime": {
     "end_time": "2024-12-30T00:20:00.875266Z",
     "start_time": "2024-12-30T00:20:00.868655Z"
    }
   },
   "cell_type": "code",
   "source": "%sql SELECT Booster_Version, PAYLOAD_MASS__KG_ FROM SPACEXTBL WHERE PAYLOAD_MASS__KG_ = (SELECT MAX(PAYLOAD_MASS__KG_) FROM SPACEXTBL);",
   "id": "765c853cc47bb1e4",
   "outputs": [
    {
     "name": "stdout",
     "output_type": "stream",
     "text": [
      " * sqlite:///my_data1.db\n",
      "Done.\n"
     ]
    },
    {
     "data": {
      "text/plain": [
       "[('F9 B5 B1048.4', 15600),\n",
       " ('F9 B5 B1049.4', 15600),\n",
       " ('F9 B5 B1051.3', 15600),\n",
       " ('F9 B5 B1056.4', 15600),\n",
       " ('F9 B5 B1048.5', 15600),\n",
       " ('F9 B5 B1051.4', 15600),\n",
       " ('F9 B5 B1049.5', 15600),\n",
       " ('F9 B5 B1060.2 ', 15600),\n",
       " ('F9 B5 B1058.3 ', 15600),\n",
       " ('F9 B5 B1051.6', 15600),\n",
       " ('F9 B5 B1060.3', 15600),\n",
       " ('F9 B5 B1049.7 ', 15600)]"
      ],
      "text/html": [
       "<table>\n",
       "    <thead>\n",
       "        <tr>\n",
       "            <th>Booster_Version</th>\n",
       "            <th>PAYLOAD_MASS__KG_</th>\n",
       "        </tr>\n",
       "    </thead>\n",
       "    <tbody>\n",
       "        <tr>\n",
       "            <td>F9 B5 B1048.4</td>\n",
       "            <td>15600</td>\n",
       "        </tr>\n",
       "        <tr>\n",
       "            <td>F9 B5 B1049.4</td>\n",
       "            <td>15600</td>\n",
       "        </tr>\n",
       "        <tr>\n",
       "            <td>F9 B5 B1051.3</td>\n",
       "            <td>15600</td>\n",
       "        </tr>\n",
       "        <tr>\n",
       "            <td>F9 B5 B1056.4</td>\n",
       "            <td>15600</td>\n",
       "        </tr>\n",
       "        <tr>\n",
       "            <td>F9 B5 B1048.5</td>\n",
       "            <td>15600</td>\n",
       "        </tr>\n",
       "        <tr>\n",
       "            <td>F9 B5 B1051.4</td>\n",
       "            <td>15600</td>\n",
       "        </tr>\n",
       "        <tr>\n",
       "            <td>F9 B5 B1049.5</td>\n",
       "            <td>15600</td>\n",
       "        </tr>\n",
       "        <tr>\n",
       "            <td>F9 B5 B1060.2 </td>\n",
       "            <td>15600</td>\n",
       "        </tr>\n",
       "        <tr>\n",
       "            <td>F9 B5 B1058.3 </td>\n",
       "            <td>15600</td>\n",
       "        </tr>\n",
       "        <tr>\n",
       "            <td>F9 B5 B1051.6</td>\n",
       "            <td>15600</td>\n",
       "        </tr>\n",
       "        <tr>\n",
       "            <td>F9 B5 B1060.3</td>\n",
       "            <td>15600</td>\n",
       "        </tr>\n",
       "        <tr>\n",
       "            <td>F9 B5 B1049.7 </td>\n",
       "            <td>15600</td>\n",
       "        </tr>\n",
       "    </tbody>\n",
       "</table>"
      ]
     },
     "execution_count": 104,
     "metadata": {},
     "output_type": "execute_result"
    }
   ],
   "execution_count": 104
  },
  {
   "metadata": {},
   "cell_type": "markdown",
   "source": "# 2015 Launch Records\n",
   "id": "abbf2fe44dd753a7"
  },
  {
   "metadata": {
    "ExecuteTime": {
     "end_time": "2024-12-30T00:20:00.943830Z",
     "start_time": "2024-12-30T00:20:00.934775Z"
    }
   },
   "cell_type": "code",
   "source": "%sql SELECT Landing_Outcome, Booster_Version, Launch_Site FROM SPACEXTBL WHERE Landing_Outcome = 'Failure (drone ship)' AND strftime('%Y', Date) = '2015';\n",
   "id": "5ec2671fc9370dac",
   "outputs": [
    {
     "name": "stdout",
     "output_type": "stream",
     "text": [
      " * sqlite:///my_data1.db\n",
      "Done.\n"
     ]
    },
    {
     "data": {
      "text/plain": [
       "[('Failure (drone ship)', 'F9 v1.1 B1012', 'CCAFS LC-40'),\n",
       " ('Failure (drone ship)', 'F9 v1.1 B1015', 'CCAFS LC-40')]"
      ],
      "text/html": [
       "<table>\n",
       "    <thead>\n",
       "        <tr>\n",
       "            <th>Landing_Outcome</th>\n",
       "            <th>Booster_Version</th>\n",
       "            <th>Launch_Site</th>\n",
       "        </tr>\n",
       "    </thead>\n",
       "    <tbody>\n",
       "        <tr>\n",
       "            <td>Failure (drone ship)</td>\n",
       "            <td>F9 v1.1 B1012</td>\n",
       "            <td>CCAFS LC-40</td>\n",
       "        </tr>\n",
       "        <tr>\n",
       "            <td>Failure (drone ship)</td>\n",
       "            <td>F9 v1.1 B1015</td>\n",
       "            <td>CCAFS LC-40</td>\n",
       "        </tr>\n",
       "    </tbody>\n",
       "</table>"
      ]
     },
     "execution_count": 105,
     "metadata": {},
     "output_type": "execute_result"
    }
   ],
   "execution_count": 105
  },
  {
   "metadata": {},
   "cell_type": "markdown",
   "source": "# Rank Landing Outcomes Between 2010-06-04 and 2017-03-20\n",
   "id": "d19be993c25fe135"
  },
  {
   "metadata": {
    "ExecuteTime": {
     "end_time": "2024-12-30T00:20:00.998626Z",
     "start_time": "2024-12-30T00:20:00.990279Z"
    }
   },
   "cell_type": "code",
   "source": "%sql SELECT Landing_Outcome, COUNT(*) AS Outcome_Count FROM SPACEXTBL WHERE Date BETWEEN '2010-06-04' AND '2017-03-20' GROUP BY Landing_Outcome ORDER BY Outcome_Count DESC;\n",
   "id": "52dde770434a3f5",
   "outputs": [
    {
     "name": "stdout",
     "output_type": "stream",
     "text": [
      " * sqlite:///my_data1.db\n",
      "Done.\n"
     ]
    },
    {
     "data": {
      "text/plain": [
       "[('No attempt', 10),\n",
       " ('Success (drone ship)', 5),\n",
       " ('Failure (drone ship)', 5),\n",
       " ('Success (ground pad)', 3),\n",
       " ('Controlled (ocean)', 3),\n",
       " ('Uncontrolled (ocean)', 2),\n",
       " ('Failure (parachute)', 2),\n",
       " ('Precluded (drone ship)', 1)]"
      ],
      "text/html": [
       "<table>\n",
       "    <thead>\n",
       "        <tr>\n",
       "            <th>Landing_Outcome</th>\n",
       "            <th>Outcome_Count</th>\n",
       "        </tr>\n",
       "    </thead>\n",
       "    <tbody>\n",
       "        <tr>\n",
       "            <td>No attempt</td>\n",
       "            <td>10</td>\n",
       "        </tr>\n",
       "        <tr>\n",
       "            <td>Success (drone ship)</td>\n",
       "            <td>5</td>\n",
       "        </tr>\n",
       "        <tr>\n",
       "            <td>Failure (drone ship)</td>\n",
       "            <td>5</td>\n",
       "        </tr>\n",
       "        <tr>\n",
       "            <td>Success (ground pad)</td>\n",
       "            <td>3</td>\n",
       "        </tr>\n",
       "        <tr>\n",
       "            <td>Controlled (ocean)</td>\n",
       "            <td>3</td>\n",
       "        </tr>\n",
       "        <tr>\n",
       "            <td>Uncontrolled (ocean)</td>\n",
       "            <td>2</td>\n",
       "        </tr>\n",
       "        <tr>\n",
       "            <td>Failure (parachute)</td>\n",
       "            <td>2</td>\n",
       "        </tr>\n",
       "        <tr>\n",
       "            <td>Precluded (drone ship)</td>\n",
       "            <td>1</td>\n",
       "        </tr>\n",
       "    </tbody>\n",
       "</table>"
      ]
     },
     "execution_count": 106,
     "metadata": {},
     "output_type": "execute_result"
    }
   ],
   "execution_count": 106
  },
  {
   "metadata": {},
   "cell_type": "markdown",
   "source": "",
   "id": "230ab54209a08db4"
  }
 ],
 "metadata": {
  "kernelspec": {
   "display_name": "Python 3 (ipykernel)",
   "language": "python",
   "name": "python3"
  },
  "language_info": {
   "codemirror_mode": {
    "name": "ipython",
    "version": 3
   },
   "file_extension": ".py",
   "mimetype": "text/x-python",
   "name": "python",
   "nbconvert_exporter": "python",
   "pygments_lexer": "ipython3",
   "version": "3.12.4"
  }
 },
 "nbformat": 4,
 "nbformat_minor": 5
}
